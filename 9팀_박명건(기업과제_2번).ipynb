{
  "nbformat": 4,
  "nbformat_minor": 0,
  "metadata": {
    "colab": {
      "name": "9팀_박명건(기업과제_2번).ipynb",
      "provenance": [],
      "collapsed_sections": []
    },
    "kernelspec": {
      "name": "python3",
      "display_name": "Python 3"
    },
    "language_info": {
      "name": "python"
    }
  },
  "cells": [
    {
      "cell_type": "code",
      "execution_count": null,
      "metadata": {
        "id": "WS-PUhC4mnnu"
      },
      "outputs": [],
      "source": [
        "import os\n",
        "import sys\n",
        "import pandas as pd\n",
        "import numpy as np\n",
        "import matplotlib.pyplot as plt\n",
        "import seaborn as sns\n",
        "from datetime import datetime\n",
        "from collections import defaultdict\n",
        "from collections import Counter"
      ]
    },
    {
      "cell_type": "code",
      "source": [
        "from google.colab import drive\n",
        "drive.mount(\"/content/drive\")"
      ],
      "metadata": {
        "colab": {
          "base_uri": "https://localhost:8080/"
        },
        "id": "B4nYsJt3nugA",
        "outputId": "8bce84c5-eada-42e7-f7b8-20d2fd83c243"
      },
      "execution_count": null,
      "outputs": [
        {
          "output_type": "stream",
          "name": "stdout",
          "text": [
            "Drive already mounted at /content/drive; to attempt to forcibly remount, call drive.mount(\"/content/drive\", force_remount=True).\n"
          ]
        }
      ]
    },
    {
      "cell_type": "code",
      "source": [
        "cd \"/content/drive/MyDrive/Classroom/AI심화과정\""
      ],
      "metadata": {
        "colab": {
          "base_uri": "https://localhost:8080/"
        },
        "id": "BfxGijL3oH92",
        "outputId": "7e2d38db-6f8d-4e64-99b8-8f7baa943129"
      },
      "execution_count": null,
      "outputs": [
        {
          "output_type": "stream",
          "name": "stdout",
          "text": [
            "/content/drive/MyDrive/Classroom/AI심화과정\n"
          ]
        }
      ]
    },
    {
      "cell_type": "code",
      "source": [
        "_CUR_DIR = os.path.abspath(os.curdir)\n",
        "print(f\"My current directory : {_CUR_DIR}\")\n",
        "_DATA_DIR = os.path.join(_CUR_DIR, \"pretest_data.csv\")"
      ],
      "metadata": {
        "colab": {
          "base_uri": "https://localhost:8080/"
        },
        "id": "O3HRFsynoK--",
        "outputId": "b23138e7-8727-43f9-a3ad-0ba3055e7626"
      },
      "execution_count": null,
      "outputs": [
        {
          "output_type": "stream",
          "name": "stdout",
          "text": [
            "My current directory : /content/drive/MyDrive/Classroom/AI심화과정\n"
          ]
        }
      ]
    },
    {
      "cell_type": "code",
      "source": [
        "# nsmc/ratings_train.txt를 DataFrame 형태로 불러오기\n",
        "df = pd.read_csv(_DATA_DIR)"
      ],
      "metadata": {
        "id": "guknxpkXoLio"
      },
      "execution_count": null,
      "outputs": []
    },
    {
      "cell_type": "code",
      "source": [
        "df.head()"
      ],
      "metadata": {
        "colab": {
          "base_uri": "https://localhost:8080/",
          "height": 612
        },
        "id": "q8tyVkU_pwd4",
        "outputId": "79ca3f3c-fe65-4c3e-c0a6-65ce06a102e6"
      },
      "execution_count": null,
      "outputs": [
        {
          "output_type": "execute_result",
          "data": {
            "text/html": [
              "\n",
              "  <div id=\"df-d001568e-d902-45c6-8323-9d8fc85fc9a6\">\n",
              "    <div class=\"colab-df-container\">\n",
              "      <div>\n",
              "<style scoped>\n",
              "    .dataframe tbody tr th:only-of-type {\n",
              "        vertical-align: middle;\n",
              "    }\n",
              "\n",
              "    .dataframe tbody tr th {\n",
              "        vertical-align: top;\n",
              "    }\n",
              "\n",
              "    .dataframe thead th {\n",
              "        text-align: right;\n",
              "    }\n",
              "</style>\n",
              "<table border=\"1\" class=\"dataframe\">\n",
              "  <thead>\n",
              "    <tr style=\"text-align: right;\">\n",
              "      <th></th>\n",
              "      <th>video_id</th>\n",
              "      <th>channel_id</th>\n",
              "      <th>published_date</th>\n",
              "      <th>category_name</th>\n",
              "      <th>duration</th>\n",
              "      <th>tags</th>\n",
              "      <th>description</th>\n",
              "      <th>on_trending_date</th>\n",
              "      <th>off_trending_date</th>\n",
              "      <th>on_rank</th>\n",
              "      <th>...</th>\n",
              "      <th>on_dislikes</th>\n",
              "      <th>off_dislikes</th>\n",
              "      <th>on_comments</th>\n",
              "      <th>off_comments</th>\n",
              "      <th>on_channel_subscribers</th>\n",
              "      <th>off_channel_subscribers</th>\n",
              "      <th>on_channel_total_views</th>\n",
              "      <th>off_channel_total_views</th>\n",
              "      <th>on_channel_total_videos</th>\n",
              "      <th>off_channel_total_videos</th>\n",
              "    </tr>\n",
              "  </thead>\n",
              "  <tbody>\n",
              "    <tr>\n",
              "      <th>0</th>\n",
              "      <td>V-0db</td>\n",
              "      <td>CH49ta0</td>\n",
              "      <td>2021-07-01</td>\n",
              "      <td>Entertainment</td>\n",
              "      <td>PT8M20S</td>\n",
              "      <td>SiriusXM|Sirius XM|Sirius|SXM|BIGHIT|빅히트|방탄소년단...</td>\n",
              "      <td>BTS performs their hit songs ‘Dynamite’ and ‘B...</td>\n",
              "      <td>2021-07-03</td>\n",
              "      <td>2021-07-04</td>\n",
              "      <td>13</td>\n",
              "      <td>...</td>\n",
              "      <td>792</td>\n",
              "      <td>1014</td>\n",
              "      <td>10373</td>\n",
              "      <td>10720</td>\n",
              "      <td>1080000</td>\n",
              "      <td>1080000</td>\n",
              "      <td>685992413</td>\n",
              "      <td>687485021</td>\n",
              "      <td>5947</td>\n",
              "      <td>5950</td>\n",
              "    </tr>\n",
              "    <tr>\n",
              "      <th>1</th>\n",
              "      <td>V-1XL</td>\n",
              "      <td>CHZVD--</td>\n",
              "      <td>2021-06-24</td>\n",
              "      <td>Entertainment</td>\n",
              "      <td>PT9M17S</td>\n",
              "      <td>치킨불냉면|치킨|불냉면|냉면</td>\n",
              "      <td>영상에 나오는 캐릭터의 이름은 파도비 입니다. 고양이가 아니라 파란 도깨비입니다. ...</td>\n",
              "      <td>2021-06-26</td>\n",
              "      <td>2021-06-27</td>\n",
              "      <td>28</td>\n",
              "      <td>...</td>\n",
              "      <td>121</td>\n",
              "      <td>154</td>\n",
              "      <td>1083</td>\n",
              "      <td>1173</td>\n",
              "      <td>627000</td>\n",
              "      <td>628000</td>\n",
              "      <td>75327083</td>\n",
              "      <td>75685030</td>\n",
              "      <td>70</td>\n",
              "      <td>70</td>\n",
              "    </tr>\n",
              "    <tr>\n",
              "      <th>2</th>\n",
              "      <td>V-4fa</td>\n",
              "      <td>CH9w-h_</td>\n",
              "      <td>2021-07-17</td>\n",
              "      <td>Entertainment</td>\n",
              "      <td>PT7M39S</td>\n",
              "      <td>NaN</td>\n",
              "      <td>거세 구형, 성 충동 제거를 위한 엄벌 치료 VS 인권 보호해야고민 끝에 내린 강요...</td>\n",
              "      <td>2021-07-19</td>\n",
              "      <td>2021-07-22</td>\n",
              "      <td>1</td>\n",
              "      <td>...</td>\n",
              "      <td>162</td>\n",
              "      <td>233</td>\n",
              "      <td>696</td>\n",
              "      <td>1006</td>\n",
              "      <td>5750000</td>\n",
              "      <td>5750000</td>\n",
              "      <td>5424167911</td>\n",
              "      <td>5431617741</td>\n",
              "      <td>34270</td>\n",
              "      <td>34341</td>\n",
              "    </tr>\n",
              "    <tr>\n",
              "      <th>3</th>\n",
              "      <td>V-5ip</td>\n",
              "      <td>CHUQVGX</td>\n",
              "      <td>2021-06-02</td>\n",
              "      <td>Sports</td>\n",
              "      <td>PT6M40S</td>\n",
              "      <td>News Network|SBS SPORTSMUG|SPORTSMUG|스포츠머그|축구|...</td>\n",
              "      <td>세계 최초 9회 연속 올림픽 본선 진출! 그동안 한국 축구의 역사를 써내려 간 올림...</td>\n",
              "      <td>2021-06-04</td>\n",
              "      <td>2021-06-04</td>\n",
              "      <td>18</td>\n",
              "      <td>...</td>\n",
              "      <td>30</td>\n",
              "      <td>30</td>\n",
              "      <td>416</td>\n",
              "      <td>416</td>\n",
              "      <td>94200</td>\n",
              "      <td>94200</td>\n",
              "      <td>71160125</td>\n",
              "      <td>71160125</td>\n",
              "      <td>224</td>\n",
              "      <td>224</td>\n",
              "    </tr>\n",
              "    <tr>\n",
              "      <th>4</th>\n",
              "      <td>V-5jn</td>\n",
              "      <td>CHhI3EX</td>\n",
              "      <td>2021-07-06</td>\n",
              "      <td>Sports</td>\n",
              "      <td>PT11M27S</td>\n",
              "      <td>이천수|심판도전기|축구심판</td>\n",
              "      <td>찾아 뵐 심판분들이 이제 18명정도 남았네요</td>\n",
              "      <td>2021-07-08</td>\n",
              "      <td>2021-07-09</td>\n",
              "      <td>11</td>\n",
              "      <td>...</td>\n",
              "      <td>112</td>\n",
              "      <td>143</td>\n",
              "      <td>687</td>\n",
              "      <td>772</td>\n",
              "      <td>47600</td>\n",
              "      <td>49200</td>\n",
              "      <td>6993451</td>\n",
              "      <td>7607123</td>\n",
              "      <td>21</td>\n",
              "      <td>21</td>\n",
              "    </tr>\n",
              "  </tbody>\n",
              "</table>\n",
              "<p>5 rows × 25 columns</p>\n",
              "</div>\n",
              "      <button class=\"colab-df-convert\" onclick=\"convertToInteractive('df-d001568e-d902-45c6-8323-9d8fc85fc9a6')\"\n",
              "              title=\"Convert this dataframe to an interactive table.\"\n",
              "              style=\"display:none;\">\n",
              "        \n",
              "  <svg xmlns=\"http://www.w3.org/2000/svg\" height=\"24px\"viewBox=\"0 0 24 24\"\n",
              "       width=\"24px\">\n",
              "    <path d=\"M0 0h24v24H0V0z\" fill=\"none\"/>\n",
              "    <path d=\"M18.56 5.44l.94 2.06.94-2.06 2.06-.94-2.06-.94-.94-2.06-.94 2.06-2.06.94zm-11 1L8.5 8.5l.94-2.06 2.06-.94-2.06-.94L8.5 2.5l-.94 2.06-2.06.94zm10 10l.94 2.06.94-2.06 2.06-.94-2.06-.94-.94-2.06-.94 2.06-2.06.94z\"/><path d=\"M17.41 7.96l-1.37-1.37c-.4-.4-.92-.59-1.43-.59-.52 0-1.04.2-1.43.59L10.3 9.45l-7.72 7.72c-.78.78-.78 2.05 0 2.83L4 21.41c.39.39.9.59 1.41.59.51 0 1.02-.2 1.41-.59l7.78-7.78 2.81-2.81c.8-.78.8-2.07 0-2.86zM5.41 20L4 18.59l7.72-7.72 1.47 1.35L5.41 20z\"/>\n",
              "  </svg>\n",
              "      </button>\n",
              "      \n",
              "  <style>\n",
              "    .colab-df-container {\n",
              "      display:flex;\n",
              "      flex-wrap:wrap;\n",
              "      gap: 12px;\n",
              "    }\n",
              "\n",
              "    .colab-df-convert {\n",
              "      background-color: #E8F0FE;\n",
              "      border: none;\n",
              "      border-radius: 50%;\n",
              "      cursor: pointer;\n",
              "      display: none;\n",
              "      fill: #1967D2;\n",
              "      height: 32px;\n",
              "      padding: 0 0 0 0;\n",
              "      width: 32px;\n",
              "    }\n",
              "\n",
              "    .colab-df-convert:hover {\n",
              "      background-color: #E2EBFA;\n",
              "      box-shadow: 0px 1px 2px rgba(60, 64, 67, 0.3), 0px 1px 3px 1px rgba(60, 64, 67, 0.15);\n",
              "      fill: #174EA6;\n",
              "    }\n",
              "\n",
              "    [theme=dark] .colab-df-convert {\n",
              "      background-color: #3B4455;\n",
              "      fill: #D2E3FC;\n",
              "    }\n",
              "\n",
              "    [theme=dark] .colab-df-convert:hover {\n",
              "      background-color: #434B5C;\n",
              "      box-shadow: 0px 1px 3px 1px rgba(0, 0, 0, 0.15);\n",
              "      filter: drop-shadow(0px 1px 2px rgba(0, 0, 0, 0.3));\n",
              "      fill: #FFFFFF;\n",
              "    }\n",
              "  </style>\n",
              "\n",
              "      <script>\n",
              "        const buttonEl =\n",
              "          document.querySelector('#df-d001568e-d902-45c6-8323-9d8fc85fc9a6 button.colab-df-convert');\n",
              "        buttonEl.style.display =\n",
              "          google.colab.kernel.accessAllowed ? 'block' : 'none';\n",
              "\n",
              "        async function convertToInteractive(key) {\n",
              "          const element = document.querySelector('#df-d001568e-d902-45c6-8323-9d8fc85fc9a6');\n",
              "          const dataTable =\n",
              "            await google.colab.kernel.invokeFunction('convertToInteractive',\n",
              "                                                     [key], {});\n",
              "          if (!dataTable) return;\n",
              "\n",
              "          const docLinkHtml = 'Like what you see? Visit the ' +\n",
              "            '<a target=\"_blank\" href=https://colab.research.google.com/notebooks/data_table.ipynb>data table notebook</a>'\n",
              "            + ' to learn more about interactive tables.';\n",
              "          element.innerHTML = '';\n",
              "          dataTable['output_type'] = 'display_data';\n",
              "          await google.colab.output.renderOutput(dataTable, element);\n",
              "          const docLink = document.createElement('div');\n",
              "          docLink.innerHTML = docLinkHtml;\n",
              "          element.appendChild(docLink);\n",
              "        }\n",
              "      </script>\n",
              "    </div>\n",
              "  </div>\n",
              "  "
            ],
            "text/plain": [
              "  video_id channel_id published_date  category_name  duration  \\\n",
              "0    V-0db    CH49ta0     2021-07-01  Entertainment   PT8M20S   \n",
              "1    V-1XL    CHZVD--     2021-06-24  Entertainment   PT9M17S   \n",
              "2    V-4fa    CH9w-h_     2021-07-17  Entertainment   PT7M39S   \n",
              "3    V-5ip    CHUQVGX     2021-06-02         Sports   PT6M40S   \n",
              "4    V-5jn    CHhI3EX     2021-07-06         Sports  PT11M27S   \n",
              "\n",
              "                                                tags  \\\n",
              "0  SiriusXM|Sirius XM|Sirius|SXM|BIGHIT|빅히트|방탄소년단...   \n",
              "1                                    치킨불냉면|치킨|불냉면|냉면   \n",
              "2                                                NaN   \n",
              "3  News Network|SBS SPORTSMUG|SPORTSMUG|스포츠머그|축구|...   \n",
              "4                                     이천수|심판도전기|축구심판   \n",
              "\n",
              "                                         description on_trending_date  \\\n",
              "0  BTS performs their hit songs ‘Dynamite’ and ‘B...       2021-07-03   \n",
              "1  영상에 나오는 캐릭터의 이름은 파도비 입니다. 고양이가 아니라 파란 도깨비입니다. ...       2021-06-26   \n",
              "2  거세 구형, 성 충동 제거를 위한 엄벌 치료 VS 인권 보호해야고민 끝에 내린 강요...       2021-07-19   \n",
              "3  세계 최초 9회 연속 올림픽 본선 진출! 그동안 한국 축구의 역사를 써내려 간 올림...       2021-06-04   \n",
              "4                           찾아 뵐 심판분들이 이제 18명정도 남았네요       2021-07-08   \n",
              "\n",
              "  off_trending_date  on_rank  ...  on_dislikes  off_dislikes  on_comments  \\\n",
              "0        2021-07-04       13  ...          792          1014        10373   \n",
              "1        2021-06-27       28  ...          121           154         1083   \n",
              "2        2021-07-22        1  ...          162           233          696   \n",
              "3        2021-06-04       18  ...           30            30          416   \n",
              "4        2021-07-09       11  ...          112           143          687   \n",
              "\n",
              "   off_comments  on_channel_subscribers  off_channel_subscribers  \\\n",
              "0         10720                 1080000                  1080000   \n",
              "1          1173                  627000                   628000   \n",
              "2          1006                 5750000                  5750000   \n",
              "3           416                   94200                    94200   \n",
              "4           772                   47600                    49200   \n",
              "\n",
              "   on_channel_total_views  off_channel_total_views  on_channel_total_videos  \\\n",
              "0               685992413                687485021                     5947   \n",
              "1                75327083                 75685030                       70   \n",
              "2              5424167911               5431617741                    34270   \n",
              "3                71160125                 71160125                      224   \n",
              "4                 6993451                  7607123                       21   \n",
              "\n",
              "   off_channel_total_videos  \n",
              "0                      5950  \n",
              "1                        70  \n",
              "2                     34341  \n",
              "3                       224  \n",
              "4                        21  \n",
              "\n",
              "[5 rows x 25 columns]"
            ]
          },
          "metadata": {},
          "execution_count": 256
        }
      ]
    },
    {
      "cell_type": "code",
      "source": [
        "len(df)"
      ],
      "metadata": {
        "colab": {
          "base_uri": "https://localhost:8080/"
        },
        "id": "wBtb3vLD1PNQ",
        "outputId": "6744bc9f-8ead-4085-840c-f62c0db740a8"
      },
      "execution_count": null,
      "outputs": [
        {
          "output_type": "execute_result",
          "data": {
            "text/plain": [
              "2644"
            ]
          },
          "metadata": {},
          "execution_count": 257
        }
      ]
    },
    {
      "cell_type": "code",
      "source": [
        "df.describe()"
      ],
      "metadata": {
        "colab": {
          "base_uri": "https://localhost:8080/",
          "height": 300
        },
        "id": "6FUO30tZxq_s",
        "outputId": "28d28037-738f-4747-8e13-dc60824bd0dd"
      },
      "execution_count": null,
      "outputs": [
        {
          "output_type": "execute_result",
          "data": {
            "text/html": [
              "\n",
              "  <div id=\"df-ca7b35a1-4101-419d-86a3-059c26cf3794\">\n",
              "    <div class=\"colab-df-container\">\n",
              "      <div>\n",
              "<style scoped>\n",
              "    .dataframe tbody tr th:only-of-type {\n",
              "        vertical-align: middle;\n",
              "    }\n",
              "\n",
              "    .dataframe tbody tr th {\n",
              "        vertical-align: top;\n",
              "    }\n",
              "\n",
              "    .dataframe thead th {\n",
              "        text-align: right;\n",
              "    }\n",
              "</style>\n",
              "<table border=\"1\" class=\"dataframe\">\n",
              "  <thead>\n",
              "    <tr style=\"text-align: right;\">\n",
              "      <th></th>\n",
              "      <th>on_rank</th>\n",
              "      <th>off_rank</th>\n",
              "      <th>on_views</th>\n",
              "      <th>off_views</th>\n",
              "      <th>on_likes</th>\n",
              "      <th>off_likes</th>\n",
              "      <th>on_dislikes</th>\n",
              "      <th>off_dislikes</th>\n",
              "      <th>on_comments</th>\n",
              "      <th>off_comments</th>\n",
              "      <th>on_channel_subscribers</th>\n",
              "      <th>off_channel_subscribers</th>\n",
              "      <th>on_channel_total_views</th>\n",
              "      <th>off_channel_total_views</th>\n",
              "      <th>on_channel_total_videos</th>\n",
              "      <th>off_channel_total_videos</th>\n",
              "    </tr>\n",
              "  </thead>\n",
              "  <tbody>\n",
              "    <tr>\n",
              "      <th>count</th>\n",
              "      <td>2644.000000</td>\n",
              "      <td>2644.000000</td>\n",
              "      <td>2.644000e+03</td>\n",
              "      <td>2.644000e+03</td>\n",
              "      <td>2.644000e+03</td>\n",
              "      <td>2.644000e+03</td>\n",
              "      <td>2644.000000</td>\n",
              "      <td>2644.000000</td>\n",
              "      <td>2.644000e+03</td>\n",
              "      <td>2.644000e+03</td>\n",
              "      <td>2.644000e+03</td>\n",
              "      <td>2.644000e+03</td>\n",
              "      <td>2.644000e+03</td>\n",
              "      <td>2.644000e+03</td>\n",
              "      <td>2644.000000</td>\n",
              "      <td>2644.000000</td>\n",
              "    </tr>\n",
              "    <tr>\n",
              "      <th>mean</th>\n",
              "      <td>20.234493</td>\n",
              "      <td>35.795386</td>\n",
              "      <td>9.534819e+05</td>\n",
              "      <td>1.432732e+06</td>\n",
              "      <td>5.465813e+04</td>\n",
              "      <td>6.845384e+04</td>\n",
              "      <td>534.279879</td>\n",
              "      <td>860.402421</td>\n",
              "      <td>9.032085e+03</td>\n",
              "      <td>1.111202e+04</td>\n",
              "      <td>1.742059e+06</td>\n",
              "      <td>1.748095e+06</td>\n",
              "      <td>8.639525e+08</td>\n",
              "      <td>8.665469e+08</td>\n",
              "      <td>9276.285174</td>\n",
              "      <td>9229.746596</td>\n",
              "    </tr>\n",
              "    <tr>\n",
              "      <th>std</th>\n",
              "      <td>12.833115</td>\n",
              "      <td>10.376753</td>\n",
              "      <td>3.200375e+06</td>\n",
              "      <td>6.836354e+06</td>\n",
              "      <td>3.239337e+05</td>\n",
              "      <td>4.983217e+05</td>\n",
              "      <td>2070.643487</td>\n",
              "      <td>4754.238395</td>\n",
              "      <td>1.155321e+05</td>\n",
              "      <td>1.574601e+05</td>\n",
              "      <td>5.546694e+06</td>\n",
              "      <td>5.569829e+06</td>\n",
              "      <td>2.511740e+09</td>\n",
              "      <td>2.518026e+09</td>\n",
              "      <td>43156.370481</td>\n",
              "      <td>43100.803783</td>\n",
              "    </tr>\n",
              "    <tr>\n",
              "      <th>min</th>\n",
              "      <td>1.000000</td>\n",
              "      <td>1.000000</td>\n",
              "      <td>0.000000e+00</td>\n",
              "      <td>0.000000e+00</td>\n",
              "      <td>0.000000e+00</td>\n",
              "      <td>0.000000e+00</td>\n",
              "      <td>0.000000</td>\n",
              "      <td>0.000000</td>\n",
              "      <td>0.000000e+00</td>\n",
              "      <td>0.000000e+00</td>\n",
              "      <td>0.000000e+00</td>\n",
              "      <td>0.000000e+00</td>\n",
              "      <td>5.531600e+04</td>\n",
              "      <td>5.531600e+04</td>\n",
              "      <td>1.000000</td>\n",
              "      <td>1.000000</td>\n",
              "    </tr>\n",
              "    <tr>\n",
              "      <th>25%</th>\n",
              "      <td>9.000000</td>\n",
              "      <td>28.000000</td>\n",
              "      <td>2.353520e+05</td>\n",
              "      <td>3.068540e+05</td>\n",
              "      <td>4.208500e+03</td>\n",
              "      <td>4.932750e+03</td>\n",
              "      <td>86.000000</td>\n",
              "      <td>108.000000</td>\n",
              "      <td>5.110000e+02</td>\n",
              "      <td>5.977500e+02</td>\n",
              "      <td>1.480000e+05</td>\n",
              "      <td>1.507500e+05</td>\n",
              "      <td>3.698228e+07</td>\n",
              "      <td>3.780661e+07</td>\n",
              "      <td>118.000000</td>\n",
              "      <td>118.000000</td>\n",
              "    </tr>\n",
              "    <tr>\n",
              "      <th>50%</th>\n",
              "      <td>19.000000</td>\n",
              "      <td>37.000000</td>\n",
              "      <td>4.279245e+05</td>\n",
              "      <td>5.715080e+05</td>\n",
              "      <td>7.851000e+03</td>\n",
              "      <td>9.507000e+03</td>\n",
              "      <td>159.000000</td>\n",
              "      <td>211.000000</td>\n",
              "      <td>1.157000e+03</td>\n",
              "      <td>1.311500e+03</td>\n",
              "      <td>4.670000e+05</td>\n",
              "      <td>4.695000e+05</td>\n",
              "      <td>1.215355e+08</td>\n",
              "      <td>1.223838e+08</td>\n",
              "      <td>326.500000</td>\n",
              "      <td>327.500000</td>\n",
              "    </tr>\n",
              "    <tr>\n",
              "      <th>75%</th>\n",
              "      <td>30.000000</td>\n",
              "      <td>45.000000</td>\n",
              "      <td>8.268800e+05</td>\n",
              "      <td>1.119499e+06</td>\n",
              "      <td>1.688350e+04</td>\n",
              "      <td>2.085950e+04</td>\n",
              "      <td>315.000000</td>\n",
              "      <td>435.000000</td>\n",
              "      <td>2.720000e+03</td>\n",
              "      <td>3.150750e+03</td>\n",
              "      <td>1.272500e+06</td>\n",
              "      <td>1.282500e+06</td>\n",
              "      <td>4.857386e+08</td>\n",
              "      <td>4.878799e+08</td>\n",
              "      <td>1245.250000</td>\n",
              "      <td>1244.500000</td>\n",
              "    </tr>\n",
              "    <tr>\n",
              "      <th>max</th>\n",
              "      <td>50.000000</td>\n",
              "      <td>50.000000</td>\n",
              "      <td>9.727667e+07</td>\n",
              "      <td>2.488763e+08</td>\n",
              "      <td>8.097173e+06</td>\n",
              "      <td>1.575992e+07</td>\n",
              "      <td>37349.000000</td>\n",
              "      <td>133721.000000</td>\n",
              "      <td>4.625133e+06</td>\n",
              "      <td>6.659938e+06</td>\n",
              "      <td>5.890000e+07</td>\n",
              "      <td>5.940000e+07</td>\n",
              "      <td>2.170125e+10</td>\n",
              "      <td>2.170568e+10</td>\n",
              "      <td>545577.000000</td>\n",
              "      <td>545764.000000</td>\n",
              "    </tr>\n",
              "  </tbody>\n",
              "</table>\n",
              "</div>\n",
              "      <button class=\"colab-df-convert\" onclick=\"convertToInteractive('df-ca7b35a1-4101-419d-86a3-059c26cf3794')\"\n",
              "              title=\"Convert this dataframe to an interactive table.\"\n",
              "              style=\"display:none;\">\n",
              "        \n",
              "  <svg xmlns=\"http://www.w3.org/2000/svg\" height=\"24px\"viewBox=\"0 0 24 24\"\n",
              "       width=\"24px\">\n",
              "    <path d=\"M0 0h24v24H0V0z\" fill=\"none\"/>\n",
              "    <path d=\"M18.56 5.44l.94 2.06.94-2.06 2.06-.94-2.06-.94-.94-2.06-.94 2.06-2.06.94zm-11 1L8.5 8.5l.94-2.06 2.06-.94-2.06-.94L8.5 2.5l-.94 2.06-2.06.94zm10 10l.94 2.06.94-2.06 2.06-.94-2.06-.94-.94-2.06-.94 2.06-2.06.94z\"/><path d=\"M17.41 7.96l-1.37-1.37c-.4-.4-.92-.59-1.43-.59-.52 0-1.04.2-1.43.59L10.3 9.45l-7.72 7.72c-.78.78-.78 2.05 0 2.83L4 21.41c.39.39.9.59 1.41.59.51 0 1.02-.2 1.41-.59l7.78-7.78 2.81-2.81c.8-.78.8-2.07 0-2.86zM5.41 20L4 18.59l7.72-7.72 1.47 1.35L5.41 20z\"/>\n",
              "  </svg>\n",
              "      </button>\n",
              "      \n",
              "  <style>\n",
              "    .colab-df-container {\n",
              "      display:flex;\n",
              "      flex-wrap:wrap;\n",
              "      gap: 12px;\n",
              "    }\n",
              "\n",
              "    .colab-df-convert {\n",
              "      background-color: #E8F0FE;\n",
              "      border: none;\n",
              "      border-radius: 50%;\n",
              "      cursor: pointer;\n",
              "      display: none;\n",
              "      fill: #1967D2;\n",
              "      height: 32px;\n",
              "      padding: 0 0 0 0;\n",
              "      width: 32px;\n",
              "    }\n",
              "\n",
              "    .colab-df-convert:hover {\n",
              "      background-color: #E2EBFA;\n",
              "      box-shadow: 0px 1px 2px rgba(60, 64, 67, 0.3), 0px 1px 3px 1px rgba(60, 64, 67, 0.15);\n",
              "      fill: #174EA6;\n",
              "    }\n",
              "\n",
              "    [theme=dark] .colab-df-convert {\n",
              "      background-color: #3B4455;\n",
              "      fill: #D2E3FC;\n",
              "    }\n",
              "\n",
              "    [theme=dark] .colab-df-convert:hover {\n",
              "      background-color: #434B5C;\n",
              "      box-shadow: 0px 1px 3px 1px rgba(0, 0, 0, 0.15);\n",
              "      filter: drop-shadow(0px 1px 2px rgba(0, 0, 0, 0.3));\n",
              "      fill: #FFFFFF;\n",
              "    }\n",
              "  </style>\n",
              "\n",
              "      <script>\n",
              "        const buttonEl =\n",
              "          document.querySelector('#df-ca7b35a1-4101-419d-86a3-059c26cf3794 button.colab-df-convert');\n",
              "        buttonEl.style.display =\n",
              "          google.colab.kernel.accessAllowed ? 'block' : 'none';\n",
              "\n",
              "        async function convertToInteractive(key) {\n",
              "          const element = document.querySelector('#df-ca7b35a1-4101-419d-86a3-059c26cf3794');\n",
              "          const dataTable =\n",
              "            await google.colab.kernel.invokeFunction('convertToInteractive',\n",
              "                                                     [key], {});\n",
              "          if (!dataTable) return;\n",
              "\n",
              "          const docLinkHtml = 'Like what you see? Visit the ' +\n",
              "            '<a target=\"_blank\" href=https://colab.research.google.com/notebooks/data_table.ipynb>data table notebook</a>'\n",
              "            + ' to learn more about interactive tables.';\n",
              "          element.innerHTML = '';\n",
              "          dataTable['output_type'] = 'display_data';\n",
              "          await google.colab.output.renderOutput(dataTable, element);\n",
              "          const docLink = document.createElement('div');\n",
              "          docLink.innerHTML = docLinkHtml;\n",
              "          element.appendChild(docLink);\n",
              "        }\n",
              "      </script>\n",
              "    </div>\n",
              "  </div>\n",
              "  "
            ],
            "text/plain": [
              "           on_rank     off_rank      on_views     off_views      on_likes  \\\n",
              "count  2644.000000  2644.000000  2.644000e+03  2.644000e+03  2.644000e+03   \n",
              "mean     20.234493    35.795386  9.534819e+05  1.432732e+06  5.465813e+04   \n",
              "std      12.833115    10.376753  3.200375e+06  6.836354e+06  3.239337e+05   \n",
              "min       1.000000     1.000000  0.000000e+00  0.000000e+00  0.000000e+00   \n",
              "25%       9.000000    28.000000  2.353520e+05  3.068540e+05  4.208500e+03   \n",
              "50%      19.000000    37.000000  4.279245e+05  5.715080e+05  7.851000e+03   \n",
              "75%      30.000000    45.000000  8.268800e+05  1.119499e+06  1.688350e+04   \n",
              "max      50.000000    50.000000  9.727667e+07  2.488763e+08  8.097173e+06   \n",
              "\n",
              "          off_likes   on_dislikes   off_dislikes   on_comments  off_comments  \\\n",
              "count  2.644000e+03   2644.000000    2644.000000  2.644000e+03  2.644000e+03   \n",
              "mean   6.845384e+04    534.279879     860.402421  9.032085e+03  1.111202e+04   \n",
              "std    4.983217e+05   2070.643487    4754.238395  1.155321e+05  1.574601e+05   \n",
              "min    0.000000e+00      0.000000       0.000000  0.000000e+00  0.000000e+00   \n",
              "25%    4.932750e+03     86.000000     108.000000  5.110000e+02  5.977500e+02   \n",
              "50%    9.507000e+03    159.000000     211.000000  1.157000e+03  1.311500e+03   \n",
              "75%    2.085950e+04    315.000000     435.000000  2.720000e+03  3.150750e+03   \n",
              "max    1.575992e+07  37349.000000  133721.000000  4.625133e+06  6.659938e+06   \n",
              "\n",
              "       on_channel_subscribers  off_channel_subscribers  \\\n",
              "count            2.644000e+03             2.644000e+03   \n",
              "mean             1.742059e+06             1.748095e+06   \n",
              "std              5.546694e+06             5.569829e+06   \n",
              "min              0.000000e+00             0.000000e+00   \n",
              "25%              1.480000e+05             1.507500e+05   \n",
              "50%              4.670000e+05             4.695000e+05   \n",
              "75%              1.272500e+06             1.282500e+06   \n",
              "max              5.890000e+07             5.940000e+07   \n",
              "\n",
              "       on_channel_total_views  off_channel_total_views  \\\n",
              "count            2.644000e+03             2.644000e+03   \n",
              "mean             8.639525e+08             8.665469e+08   \n",
              "std              2.511740e+09             2.518026e+09   \n",
              "min              5.531600e+04             5.531600e+04   \n",
              "25%              3.698228e+07             3.780661e+07   \n",
              "50%              1.215355e+08             1.223838e+08   \n",
              "75%              4.857386e+08             4.878799e+08   \n",
              "max              2.170125e+10             2.170568e+10   \n",
              "\n",
              "       on_channel_total_videos  off_channel_total_videos  \n",
              "count              2644.000000               2644.000000  \n",
              "mean               9276.285174               9229.746596  \n",
              "std               43156.370481              43100.803783  \n",
              "min                   1.000000                  1.000000  \n",
              "25%                 118.000000                118.000000  \n",
              "50%                 326.500000                327.500000  \n",
              "75%                1245.250000               1244.500000  \n",
              "max              545577.000000             545764.000000  "
            ]
          },
          "metadata": {},
          "execution_count": 258
        }
      ]
    },
    {
      "cell_type": "code",
      "source": [
        "df.isnull().values.any()"
      ],
      "metadata": {
        "colab": {
          "base_uri": "https://localhost:8080/"
        },
        "id": "F_8EP9xC1ine",
        "outputId": "36ffcdbc-900a-4f8e-d984-f8daea20f3a0"
      },
      "execution_count": null,
      "outputs": [
        {
          "output_type": "execute_result",
          "data": {
            "text/plain": [
              "True"
            ]
          },
          "metadata": {},
          "execution_count": 259
        }
      ]
    },
    {
      "cell_type": "code",
      "source": [
        "#na 값 확인\n",
        "df.isnull().sum()"
      ],
      "metadata": {
        "colab": {
          "base_uri": "https://localhost:8080/"
        },
        "id": "TRkZ69Yb1mQ4",
        "outputId": "7b0f4d60-5c79-4ba3-e798-7091299b3d3d"
      },
      "execution_count": null,
      "outputs": [
        {
          "output_type": "execute_result",
          "data": {
            "text/plain": [
              "video_id                      0\n",
              "channel_id                    0\n",
              "published_date                0\n",
              "category_name                 0\n",
              "duration                      0\n",
              "tags                        370\n",
              "description                  40\n",
              "on_trending_date              0\n",
              "off_trending_date             0\n",
              "on_rank                       0\n",
              "off_rank                      0\n",
              "on_views                      0\n",
              "off_views                     0\n",
              "on_likes                      0\n",
              "off_likes                     0\n",
              "on_dislikes                   0\n",
              "off_dislikes                  0\n",
              "on_comments                   0\n",
              "off_comments                  0\n",
              "on_channel_subscribers        0\n",
              "off_channel_subscribers       0\n",
              "on_channel_total_views        0\n",
              "off_channel_total_views       0\n",
              "on_channel_total_videos       0\n",
              "off_channel_total_videos      0\n",
              "dtype: int64"
            ]
          },
          "metadata": {},
          "execution_count": 260
        }
      ]
    },
    {
      "cell_type": "code",
      "source": [
        "#video_id를 사용하여 중복값 확인\n",
        "df.video_id.nunique()"
      ],
      "metadata": {
        "colab": {
          "base_uri": "https://localhost:8080/"
        },
        "id": "A1Y3RWnk07yH",
        "outputId": "a6132630-7a46-49dd-b967-316efc29db44"
      },
      "execution_count": null,
      "outputs": [
        {
          "output_type": "execute_result",
          "data": {
            "text/plain": [
              "2643"
            ]
          },
          "metadata": {},
          "execution_count": 132
        }
      ]
    },
    {
      "cell_type": "code",
      "source": [
        "#(전체기간 카테고리->채널->비디오 개수)전체기간 동안 채널 별 인기동영상 개수\n",
        "df.groupby(df[\"channel_id\"]).size()"
      ],
      "metadata": {
        "colab": {
          "base_uri": "https://localhost:8080/"
        },
        "id": "pGXABXzy2S2A",
        "outputId": "e8874272-d595-4a9b-951f-a2426b14a661"
      },
      "execution_count": null,
      "outputs": [
        {
          "output_type": "execute_result",
          "data": {
            "text/plain": [
              "channel_id\n",
              "CH-0C8y    7\n",
              "CH-9RQC    1\n",
              "CH-BqPA    2\n",
              "CH-Bsa2    2\n",
              "CH-FQUI    3\n",
              "          ..\n",
              "CHzjiRW    2\n",
              "CHznImS    1\n",
              "CHzt24f    1\n",
              "CHzxXBQ    1\n",
              "CHzz58-    2\n",
              "Length: 940, dtype: int64"
            ]
          },
          "metadata": {},
          "execution_count": 133
        }
      ]
    },
    {
      "cell_type": "code",
      "source": [
        "df.groupby(df[\"channel_id\"]).size()[df.groupby(df[\"channel_id\"]).size()==17]"
      ],
      "metadata": {
        "colab": {
          "base_uri": "https://localhost:8080/"
        },
        "id": "N6kj8MZ4_7Q0",
        "outputId": "c64365e1-8cf2-4805-8fe2-bf930828205c"
      },
      "execution_count": null,
      "outputs": [
        {
          "output_type": "execute_result",
          "data": {
            "text/plain": [
              "channel_id\n",
              "CHQ2O-i    17\n",
              "dtype: int64"
            ]
          },
          "metadata": {},
          "execution_count": 263
        }
      ]
    },
    {
      "cell_type": "code",
      "source": [
        "df.groupby(df[\"channel_id\"]).size().plot.bar()"
      ],
      "metadata": {
        "colab": {
          "base_uri": "https://localhost:8080/",
          "height": 343
        },
        "id": "1KPIxdlbct2g",
        "outputId": "f60ce0de-7563-4eac-9343-5c1b5b384eb5"
      },
      "execution_count": null,
      "outputs": [
        {
          "output_type": "execute_result",
          "data": {
            "text/plain": [
              "<matplotlib.axes._subplots.AxesSubplot at 0x7f62149ca790>"
            ]
          },
          "metadata": {},
          "execution_count": 135
        },
        {
          "output_type": "display_data",
          "data": {
            "image/png": "[encoded data removed]",
            "text/plain": [
              "<Figure size 432x288 with 1 Axes>"
            ]
          },
          "metadata": {
            "needs_background": "light"
          }
        }
      ]
    },
    {
      "cell_type": "code",
      "source": [
        "plt.figure(figsize=(16,5))\n",
        "plt.subplot(1,2,1)\n",
        "sns.histplot(df.groupby(df[\"channel_id\"]).size())\n",
        "plt.subplot(1,2,2)\n",
        "sns.distplot(df.groupby(df[\"channel_id\"]).size())\n",
        "plt.show()"
      ],
      "metadata": {
        "colab": {
          "base_uri": "https://localhost:8080/",
          "height": 320
        },
        "id": "5J3LLqNWZFc5",
        "outputId": "bf50dad6-97a7-4f0a-aba3-c2c8ee251a34"
      },
      "execution_count": null,
      "outputs": [
        {
          "output_type": "display_data",
          "data": {
            "image/png": "[encoded data removed]",
            "text/plain": [
              "<Figure size 1152x360 with 2 Axes>"
            ]
          },
          "metadata": {
            "needs_background": "light"
          }
        }
      ]
    },
    {
      "cell_type": "code",
      "source": [
        "#월단위 구분을 위하여 변수 생성\n",
        "df[\"published_month\"] = ['-'.join(a.split('-')[:2]) for a in df[\"published_date\"]]"
      ],
      "metadata": {
        "id": "17iNTPvn6Y6g"
      },
      "execution_count": null,
      "outputs": []
    },
    {
      "cell_type": "code",
      "source": [
        "#(월별 카테고리->채널->비디오 개수) \n",
        "df.groupby([df[\"published_month\"], df[\"channel_id\"]]).size()"
      ],
      "metadata": {
        "colab": {
          "base_uri": "https://localhost:8080/"
        },
        "id": "9MqaeuEY7Jjo",
        "outputId": "ad0e0245-d316-48d9-b9b7-bb4aa2f83bdf"
      },
      "execution_count": null,
      "outputs": [
        {
          "output_type": "execute_result",
          "data": {
            "text/plain": [
              "published_month  channel_id\n",
              "2021-03          CH12YJZ       1\n",
              "                 CH2qVOO       1\n",
              "                 CH46BbE       2\n",
              "                 CH4LW3s       1\n",
              "                 CH5BMQO       2\n",
              "                              ..\n",
              "2021-07          CHzCedB       3\n",
              "                 CHzIOIS       1\n",
              "                 CHzgNzU       2\n",
              "                 CHzxXBQ       1\n",
              "                 CHzz58-       1\n",
              "Length: 1666, dtype: int64"
            ]
          },
          "metadata": {},
          "execution_count": 35
        }
      ]
    },
    {
      "cell_type": "code",
      "source": [
        "for month in list(set(df[\"published_month\"].values)):\n",
        "  print(df.groupby([df[\"published_month\"][df[\"published_month\"]==month], df[\"channel_id\"]]).size())"
      ],
      "metadata": {
        "colab": {
          "base_uri": "https://localhost:8080/"
        },
        "id": "luUS8OtigKqT",
        "outputId": "6f34fe2a-0d0c-4988-96a0-89080633e055"
      },
      "execution_count": null,
      "outputs": [
        {
          "output_type": "stream",
          "name": "stdout",
          "text": [
            "published_month  channel_id\n",
            "2021-03          CH12YJZ       1\n",
            "                 CH2qVOO       1\n",
            "                 CH46BbE       2\n",
            "                 CH4LW3s       1\n",
            "                 CH5BMQO       2\n",
            "                              ..\n",
            "                 CHvW8no       1\n",
            "                 CHweOkP       1\n",
            "                 CHyCL5k       1\n",
            "                 CHyn-K7       1\n",
            "                 CHyuL_X       1\n",
            "Length: 66, dtype: int64\n",
            "published_month  channel_id\n",
            "2021-04          CH-0C8y       2\n",
            "                 CH-BqPA       2\n",
            "                 CH-Bsa2       1\n",
            "                 CH-IBt8       1\n",
            "                 CH-VOS6       1\n",
            "                              ..\n",
            "                 CHyozK5       1\n",
            "                 CHz2Kbg       1\n",
            "                 CHzCedB       2\n",
            "                 CHzRDCw       1\n",
            "                 CHzjDgV       1\n",
            "Length: 420, dtype: int64\n",
            "published_month  channel_id\n",
            "2021-05          CH-0C8y       1\n",
            "                 CH-Bsa2       1\n",
            "                 CH-Jblc       1\n",
            "                 CH-KafR       1\n",
            "                 CH-VbFg       2\n",
            "                              ..\n",
            "                 CHzCedB       2\n",
            "                 CHzIOIS       3\n",
            "                 CHzRDCw       2\n",
            "                 CHzhyI5       1\n",
            "                 CHznImS       1\n",
            "Length: 408, dtype: int64\n",
            "published_month  channel_id\n",
            "2021-06          CH-0C8y       1\n",
            "                 CH-9RQC       1\n",
            "                 CH04-af       1\n",
            "                 CH0PsUG       3\n",
            "                 CH0VR2v       3\n",
            "                              ..\n",
            "                 CHzgNzU       1\n",
            "                 CHzgxx_       1\n",
            "                 CHzjiRW       2\n",
            "                 CHzt24f       1\n",
            "                 CHzz58-       1\n",
            "Length: 418, dtype: int64\n",
            "published_month  channel_id\n",
            "2021-07          CH-0C8y       3\n",
            "                 CH-FQUI       3\n",
            "                 CH-IG_h       1\n",
            "                 CH-IYpd       1\n",
            "                 CH0D7tP       1\n",
            "                              ..\n",
            "                 CHzCedB       3\n",
            "                 CHzIOIS       1\n",
            "                 CHzgNzU       2\n",
            "                 CHzxXBQ       1\n",
            "                 CHzz58-       1\n",
            "Length: 354, dtype: int64\n"
          ]
        }
      ]
    },
    {
      "cell_type": "code",
      "source": [
        "new_data = pd.DataFrame({\"channel_id\": df[df[\"published_month\"]=='2021-03'].groupby(df[\"channel_id\"]).size().keys().to_list(), \"Values\": df[df[\"published_month\"]=='2021-03'].groupby(df[\"channel_id\"]).size().values})"
      ],
      "metadata": {
        "id": "9HVqWEgvgzwy"
      },
      "execution_count": null,
      "outputs": []
    },
    {
      "cell_type": "code",
      "source": [
        "new_data.plot.bar()"
      ],
      "metadata": {
        "colab": {
          "base_uri": "https://localhost:8080/",
          "height": 286
        },
        "id": "mRYlCiKmx9Bb",
        "outputId": "c19e1a5e-55a1-4f6f-85af-06a8c5f78dc4"
      },
      "execution_count": null,
      "outputs": [
        {
          "output_type": "execute_result",
          "data": {
            "text/plain": [
              "<matplotlib.axes._subplots.AxesSubplot at 0x7f6214a45c10>"
            ]
          },
          "metadata": {},
          "execution_count": 121
        },
        {
          "output_type": "display_data",
          "data": {
            "image/png": "[encoded data removed]",
            "text/plain": [
              "<Figure size 432x288 with 1 Axes>"
            ]
          },
          "metadata": {
            "needs_background": "light"
          }
        }
      ]
    },
    {
      "cell_type": "code",
      "source": [
        "plt.figure(figsize=(16,5))\n",
        "plt.subplot(1,2,1)\n",
        "sns.histplot(new_data[\"Values\"])\n",
        "plt.subplot(1,2,2)\n",
        "sns.distplot(new_data[\"Values\"])\n",
        "plt.show()"
      ],
      "metadata": {
        "colab": {
          "base_uri": "https://localhost:8080/",
          "height": 334
        },
        "id": "w01G6pWuxcZg",
        "outputId": "f41cdd77-731c-44f5-87c2-32eb6accecfa"
      },
      "execution_count": null,
      "outputs": [
        {
          "output_type": "display_data",
          "data": {
            "image/png": "[encoded data removed]",
            "text/plain": [
              "<Figure size 1152x360 with 2 Axes>"
            ]
          },
          "metadata": {
            "needs_background": "light"
          }
        }
      ]
    },
    {
      "cell_type": "code",
      "source": [
        "set(df['published_month'].values)"
      ],
      "metadata": {
        "colab": {
          "base_uri": "https://localhost:8080/"
        },
        "id": "h2AvWjau9hCl",
        "outputId": "0aba1c79-bf0c-4f52-f8bd-6c1e63e4f6a2"
      },
      "execution_count": null,
      "outputs": [
        {
          "output_type": "execute_result",
          "data": {
            "text/plain": [
              "{'2021-03', '2021-04', '2021-05', '2021-06', '2021-07'}"
            ]
          },
          "metadata": {},
          "execution_count": 267
        }
      ]
    },
    {
      "cell_type": "code",
      "source": [
        "month_list = list(set(df['published_month'].values))"
      ],
      "metadata": {
        "id": "qwUwx3tK93DM"
      },
      "execution_count": null,
      "outputs": []
    },
    {
      "cell_type": "code",
      "source": [
        "month_list"
      ],
      "metadata": {
        "colab": {
          "base_uri": "https://localhost:8080/"
        },
        "id": "2_r20yDV-k8c",
        "outputId": "d8f0f14c-faf2-4e48-ad52-95ad21f3907d"
      },
      "execution_count": null,
      "outputs": [
        {
          "output_type": "execute_result",
          "data": {
            "text/plain": [
              "['2021-03', '2021-04', '2021-05', '2021-06', '2021-07']"
            ]
          },
          "metadata": {},
          "execution_count": 269
        }
      ]
    },
    {
      "cell_type": "code",
      "source": [
        "#월별 TOP10 채널 (분류 기준은 비디오 개수)"
      ],
      "metadata": {
        "id": "n-rZlchTPFKF"
      },
      "execution_count": null,
      "outputs": []
    },
    {
      "cell_type": "code",
      "source": [
        "#같은 수의 채널은 인기동영상에 오래 머문 순서로 정렬"
      ],
      "metadata": {
        "id": "aUeA__od9Qev"
      },
      "execution_count": null,
      "outputs": []
    },
    {
      "cell_type": "code",
      "source": [
        "#채널의 비디오 포함 개수가 같은 경우: 채널에 포함된 동영상의 조회수가 많은 순으로 정렬\n",
        "month_top_list = []\n",
        "for month in month_list:\n",
        "  channel_list = df['published_month'][df['published_month'] == month].groupby(df[\"channel_id\"]).size().index.to_list()\n",
        "  for a_channel in channel_list:\n",
        "    month_top_list.append((month, a_channel, len(df[df['published_month'] == month][df['channel_id'] == a_channel]), max(df[df['published_month'] == month][df['channel_id'] == a_channel]['on_views'])))"
      ],
      "metadata": {
        "id": "ULaeZ3SvNJLF"
      },
      "execution_count": null,
      "outputs": []
    },
    {
      "cell_type": "code",
      "source": [
        "month_top_list.sort(key=lambda x: (x[0], x[2], x[3]), reverse=True)"
      ],
      "metadata": {
        "id": "Kz015Nk6Rk8X"
      },
      "execution_count": null,
      "outputs": []
    },
    {
      "cell_type": "code",
      "source": [
        "month_top_list"
      ],
      "metadata": {
        "id": "MiB3zYLPSBFU"
      },
      "execution_count": null,
      "outputs": []
    },
    {
      "cell_type": "code",
      "source": [
        "three_month_top_list = sorted(month_top_list, key=lambda x: (x[0]=='2021-03', x[2], x[3]), reverse=True)[:10]"
      ],
      "metadata": {
        "id": "r4Anad1ESSqB"
      },
      "execution_count": null,
      "outputs": []
    },
    {
      "cell_type": "code",
      "source": [
        "three_month_top_list"
      ],
      "metadata": {
        "colab": {
          "base_uri": "https://localhost:8080/"
        },
        "id": "pmaRRwi9SjJJ",
        "outputId": "ecbf92c3-298a-4ae8-9ca4-447a93323b93"
      },
      "execution_count": null,
      "outputs": [
        {
          "output_type": "execute_result",
          "data": {
            "text/plain": [
              "[('2021-03', 'CH920m3', 2, 1409041),\n",
              " ('2021-03', 'CHicKQU', 2, 1262201),\n",
              " ('2021-03', 'CH5BMQO', 2, 1176510),\n",
              " ('2021-03', 'CHG9aFJ', 2, 932967),\n",
              " ('2021-03', 'CHaKod3', 2, 852156),\n",
              " ('2021-03', 'CHaZS_X', 2, 466251),\n",
              " ('2021-03', 'CH46BbE', 2, 226941),\n",
              " ('2021-03', 'CHnet0I', 2, 152606),\n",
              " ('2021-03', 'CHEf_Bc', 1, 9205421),\n",
              " ('2021-03', 'CHweOkP', 1, 8553414)]"
            ]
          },
          "metadata": {},
          "execution_count": 180
        }
      ]
    },
    {
      "cell_type": "code",
      "source": [
        "#주별 TOP5 채널 (분류 기준은 비디오 개수)"
      ],
      "metadata": {
        "id": "rvMTegUpThh9"
      },
      "execution_count": null,
      "outputs": []
    },
    {
      "cell_type": "code",
      "source": [
        "#인기동영상 별 업데이트 주차수 표기\n",
        "df[\"published_week\"] = [datetime.date(datetime.strptime(df['published_date'][a], \"%Y-%m-%d\")).isocalendar()[1] for  a in range(len(df['published_date']))]"
      ],
      "metadata": {
        "id": "CnefD41tMXGr"
      },
      "execution_count": null,
      "outputs": []
    },
    {
      "cell_type": "code",
      "source": [
        "df[\"published_week\"].head()"
      ],
      "metadata": {
        "colab": {
          "base_uri": "https://localhost:8080/"
        },
        "id": "g_iFRhhkVEAL",
        "outputId": "10109e4a-d0b9-4567-a350-1dc18fcf8a76"
      },
      "execution_count": null,
      "outputs": [
        {
          "output_type": "execute_result",
          "data": {
            "text/plain": [
              "0    26\n",
              "1    25\n",
              "2    28\n",
              "3    22\n",
              "4    27\n",
              "Name: published_week, dtype: int64"
            ]
          },
          "metadata": {},
          "execution_count": 187
        }
      ]
    },
    {
      "cell_type": "code",
      "source": [
        "weeks = list(set(df['published_week'].values))\n",
        "weeks"
      ],
      "metadata": {
        "id": "A4sp9McKRrDK",
        "colab": {
          "base_uri": "https://localhost:8080/"
        },
        "outputId": "6dfe6ec4-2e7c-4aec-af36-fe5bd21efe2b"
      },
      "execution_count": null,
      "outputs": [
        {
          "output_type": "execute_result",
          "data": {
            "text/plain": [
              "[12, 13, 14, 15, 16, 17, 18, 19, 20, 21, 22, 23, 24, 25, 26, 27, 28, 29, 30]"
            ]
          },
          "metadata": {},
          "execution_count": 191
        }
      ]
    },
    {
      "cell_type": "code",
      "source": [
        "#채널의 비디오 포함 개수가 같은 경우: 채널에 포함된 동영상의 조회수가 많은 순으로 정렬\n",
        "week_top_list = []\n",
        "for week in weeks:\n",
        "  channel_list = df['published_week'][df['published_week'] == week].groupby(df[\"channel_id\"]).size().index.to_list()\n",
        "  for a_channel in channel_list:\n",
        "    week_top_list.append((week, a_channel, len(df[df['published_week'] == week][df['channel_id'] == a_channel]), max(df[df['published_week'] == week][df['channel_id'] == a_channel]['on_views'])))"
      ],
      "metadata": {
        "id": "tnmUty1ZVfo5"
      },
      "execution_count": null,
      "outputs": []
    },
    {
      "cell_type": "code",
      "source": [
        "week_12_top_list = sorted(week_top_list, key=lambda x: (x[0]==12, x[2], x[3]), reverse=True)[:5]"
      ],
      "metadata": {
        "id": "HcBk5dOyWJbv"
      },
      "execution_count": null,
      "outputs": []
    },
    {
      "cell_type": "code",
      "source": [
        "week_12_top_list"
      ],
      "metadata": {
        "colab": {
          "base_uri": "https://localhost:8080/"
        },
        "id": "5yhV6ilrWT53",
        "outputId": "cbcc599d-2410-40f6-dd5b-dcc82d02c71e"
      },
      "execution_count": null,
      "outputs": [
        {
          "output_type": "execute_result",
          "data": {
            "text/plain": [
              "[(12, 'CHnet0I', 2, 152606),\n",
              " (12, 'CHweOkP', 1, 8553414),\n",
              " (12, 'CHicKQU', 1, 1262201),\n",
              " (12, 'CH7Krez', 1, 1121118),\n",
              " (12, 'CH2qVOO', 1, 1101249)]"
            ]
          },
          "metadata": {},
          "execution_count": 195
        }
      ]
    },
    {
      "cell_type": "code",
      "source": [
        "#월별 / 카테고리별: 태그 키워드 순위"
      ],
      "metadata": {
        "id": "OzHa9UelWdpL"
      },
      "execution_count": null,
      "outputs": []
    },
    {
      "cell_type": "code",
      "source": [
        "category_list = list(set(df['category_name'].values))\n",
        "category_list"
      ],
      "metadata": {
        "colab": {
          "base_uri": "https://localhost:8080/"
        },
        "id": "F9bJXgNGUHrA",
        "outputId": "0cc973e6-549e-4e1c-b97f-6cf707c646ff"
      },
      "execution_count": null,
      "outputs": [
        {
          "output_type": "execute_result",
          "data": {
            "text/plain": [
              "['News & Politics',\n",
              " 'Sports',\n",
              " 'Comedy',\n",
              " 'Gaming',\n",
              " 'Film & Animation',\n",
              " 'Howto & Style',\n",
              " 'Autos & Vehicles',\n",
              " 'Nonprofits & Activism',\n",
              " 'Pets & Animals',\n",
              " 'Music',\n",
              " 'Entertainment',\n",
              " 'People & Blogs',\n",
              " 'Travel & Events',\n",
              " 'Education',\n",
              " 'Science & Technology']"
            ]
          },
          "metadata": {},
          "execution_count": 196
        }
      ]
    },
    {
      "cell_type": "code",
      "source": [
        "category_by_month = defaultdict(list)"
      ],
      "metadata": {
        "id": "jJrD6yZvXqnP"
      },
      "execution_count": null,
      "outputs": []
    },
    {
      "cell_type": "code",
      "source": [
        "for category in category_list:\n",
        "  for month in month_list:\n",
        "    data = []\n",
        "    for a in df[df['category_name']==category][df['published_month'] == month]['tags'].dropna(how = 'any').values:\n",
        "      data += a.split('|')\n",
        "    category_by_month[category+'|'+month] = data"
      ],
      "metadata": {
        "id": "8rlgPcyjUxzh"
      },
      "execution_count": null,
      "outputs": []
    },
    {
      "cell_type": "code",
      "source": [
        "category_by_month.keys()"
      ],
      "metadata": {
        "colab": {
          "base_uri": "https://localhost:8080/"
        },
        "id": "QUoknmqSXK_E",
        "outputId": "d40edc82-6ee6-488c-b78d-8c77f483277c"
      },
      "execution_count": null,
      "outputs": [
        {
          "output_type": "execute_result",
          "data": {
            "text/plain": [
              "dict_keys(['News & Politics|2021-03', 'News & Politics|2021-04', 'News & Politics|2021-05', 'News & Politics|2021-06', 'News & Politics|2021-07', 'Sports|2021-03', 'Sports|2021-04', 'Sports|2021-05', 'Sports|2021-06', 'Sports|2021-07', 'Comedy|2021-03', 'Comedy|2021-04', 'Comedy|2021-05', 'Comedy|2021-06', 'Comedy|2021-07', 'Gaming|2021-03', 'Gaming|2021-04', 'Gaming|2021-05', 'Gaming|2021-06', 'Gaming|2021-07', 'Film & Animation|2021-03', 'Film & Animation|2021-04', 'Film & Animation|2021-05', 'Film & Animation|2021-06', 'Film & Animation|2021-07', 'Howto & Style|2021-03', 'Howto & Style|2021-04', 'Howto & Style|2021-05', 'Howto & Style|2021-06', 'Howto & Style|2021-07', 'Autos & Vehicles|2021-03', 'Autos & Vehicles|2021-04', 'Autos & Vehicles|2021-05', 'Autos & Vehicles|2021-06', 'Autos & Vehicles|2021-07', 'Nonprofits & Activism|2021-03', 'Nonprofits & Activism|2021-04', 'Nonprofits & Activism|2021-05', 'Nonprofits & Activism|2021-06', 'Nonprofits & Activism|2021-07', 'Pets & Animals|2021-03', 'Pets & Animals|2021-04', 'Pets & Animals|2021-05', 'Pets & Animals|2021-06', 'Pets & Animals|2021-07', 'Music|2021-03', 'Music|2021-04', 'Music|2021-05', 'Music|2021-06', 'Music|2021-07', 'Entertainment|2021-03', 'Entertainment|2021-04', 'Entertainment|2021-05', 'Entertainment|2021-06', 'Entertainment|2021-07', 'People & Blogs|2021-03', 'People & Blogs|2021-04', 'People & Blogs|2021-05', 'People & Blogs|2021-06', 'People & Blogs|2021-07', 'Travel & Events|2021-03', 'Travel & Events|2021-04', 'Travel & Events|2021-05', 'Travel & Events|2021-06', 'Travel & Events|2021-07', 'Education|2021-03', 'Education|2021-04', 'Education|2021-05', 'Education|2021-06', 'Education|2021-07', 'Science & Technology|2021-03', 'Science & Technology|2021-04', 'Science & Technology|2021-05', 'Science & Technology|2021-06', 'Science & Technology|2021-07'])"
            ]
          },
          "metadata": {},
          "execution_count": 202
        }
      ]
    },
    {
      "cell_type": "code",
      "source": [
        "best_tags = sorted(Counter(category_by_month['News & Politics|2021-06']).items(), key=lambda x: (x[1], x[0]), reverse=True)[:20]\n",
        "best_tags"
      ],
      "metadata": {
        "colab": {
          "base_uri": "https://localhost:8080/"
        },
        "id": "1LA0FL7JXYZF",
        "outputId": "f6c8c097-4ee5-47f6-bd60-a5f9c0d111b5"
      },
      "execution_count": null,
      "outputs": [
        {
          "output_type": "execute_result",
          "data": {
            "text/plain": [
              "[('뉴스', 6),\n",
              " ('뉴스투데이', 3),\n",
              " ('뉴스데스크', 3),\n",
              " ('광주', 3),\n",
              " ('경찰', 3),\n",
              " ('news', 3),\n",
              " ('News Network', 3),\n",
              " ('MBC뉴스', 3),\n",
              " ('투자', 2),\n",
              " ('철거', 2),\n",
              " ('주식', 2),\n",
              " ('제보영상', 2),\n",
              " ('제보', 2),\n",
              " ('정오뉴스', 2),\n",
              " ('재테크', 2),\n",
              " ('장갑차', 2),\n",
              " ('인터뷰', 2),\n",
              " ('유상철', 2),\n",
              " ('에스비에스 뉴스', 2),\n",
              " ('에스비에스', 2)]"
            ]
          },
          "metadata": {},
          "execution_count": 213
        }
      ]
    },
    {
      "cell_type": "code",
      "source": [
        "#월별: 태그 키워드 순위"
      ],
      "metadata": {
        "id": "BbJu-rZkYcqo"
      },
      "execution_count": null,
      "outputs": []
    },
    {
      "cell_type": "code",
      "source": [
        "tag_by_month = defaultdict(list)"
      ],
      "metadata": {
        "id": "E4eo7D87Yikt"
      },
      "execution_count": null,
      "outputs": []
    },
    {
      "cell_type": "code",
      "source": [
        "for month in month_list:\n",
        "  data = []\n",
        "  for a in df[df['published_month'] == month]['tags'].dropna(how = 'any').values:\n",
        "    data += a.split('|')\n",
        "    tag_by_month[month] = data"
      ],
      "metadata": {
        "id": "QMR2siexYi_Z"
      },
      "execution_count": null,
      "outputs": []
    },
    {
      "cell_type": "code",
      "source": [
        "tag_by_month.keys()"
      ],
      "metadata": {
        "colab": {
          "base_uri": "https://localhost:8080/"
        },
        "id": "f8E93YM3YjJx",
        "outputId": "7fed1552-92a0-449e-ecea-2f567063e4e1"
      },
      "execution_count": null,
      "outputs": [
        {
          "output_type": "execute_result",
          "data": {
            "text/plain": [
              "dict_keys(['2021-03', '2021-04', '2021-05', '2021-06', '2021-07'])"
            ]
          },
          "metadata": {},
          "execution_count": 272
        }
      ]
    },
    {
      "cell_type": "code",
      "source": [
        "best_tags = sorted(Counter(tag_by_month['2021-03']).items(), key=lambda x: (x[1], x[0]), reverse=True)[:20]\n",
        "best_tags"
      ],
      "metadata": {
        "colab": {
          "base_uri": "https://localhost:8080/"
        },
        "id": "c_rvQSn2YjmI",
        "outputId": "55394d64-3957-4cb9-92bd-c4e7cf95449c"
      },
      "execution_count": null,
      "outputs": [
        {
          "output_type": "execute_result",
          "data": {
            "text/plain": [
              "[('박수홍', 5),\n",
              " ('몰카', 5),\n",
              " ('유재석', 4),\n",
              " ('웃긴영상', 4),\n",
              " ('먹방', 4),\n",
              " ('고양이', 4),\n",
              " ('idol', 4),\n",
              " ('eng', 4),\n",
              " ('KBS', 4),\n",
              " ('횡령', 3),\n",
              " ('특전사', 3),\n",
              " ('특수부대', 3),\n",
              " ('참호격투', 3),\n",
              " ('예능', 3),\n",
              " ('아이유', 3),\n",
              " ('아이돌', 3),\n",
              " ('밀리터리', 3),\n",
              " ('런닝맨', 3),\n",
              " ('뉴스', 3),\n",
              " ('꿀잼', 3)]"
            ]
          },
          "metadata": {},
          "execution_count": 273
        }
      ]
    },
    {
      "cell_type": "code",
      "source": [
        "#Q2"
      ],
      "metadata": {
        "id": "o5uSIw0UZk9h"
      },
      "execution_count": null,
      "outputs": []
    },
    {
      "cell_type": "code",
      "source": [
        "df['diff_data'] = [(datetime.strptime(df['on_trending_date'][a], \"%Y-%m-%d\") - datetime.strptime(df['published_date'][a], \"%Y-%m-%d\")).days for a in range(len(df))]"
      ],
      "metadata": {
        "id": "KGogjgTjKM0g"
      },
      "execution_count": null,
      "outputs": []
    },
    {
      "cell_type": "code",
      "source": [
        "Counter(df['diff_data'])"
      ],
      "metadata": {
        "colab": {
          "base_uri": "https://localhost:8080/"
        },
        "id": "4Lx6OmBWLKwM",
        "outputId": "7182e34d-1300-4519-96cd-aed4d2550ad5"
      },
      "execution_count": null,
      "outputs": [
        {
          "output_type": "execute_result",
          "data": {
            "text/plain": [
              "Counter({1: 153, 2: 2237, 3: 202, 4: 41, 5: 7, 6: 4})"
            ]
          },
          "metadata": {},
          "execution_count": 226
        }
      ]
    },
    {
      "cell_type": "code",
      "source": [
        "#업로드 이후 인기 동영상이 되기까지의 기간 시각화\n",
        "df.plot.scatter(x='diff_data', y='on_views')"
      ],
      "metadata": {
        "colab": {
          "base_uri": "https://localhost:8080/",
          "height": 309
        },
        "id": "0aeyOCtgQnQQ",
        "outputId": "f2b59c1c-e567-4eb7-eae6-b05af0528131"
      },
      "execution_count": null,
      "outputs": [
        {
          "output_type": "execute_result",
          "data": {
            "text/plain": [
              "<matplotlib.axes._subplots.AxesSubplot at 0x7f6212ac6fd0>"
            ]
          },
          "metadata": {},
          "execution_count": 238
        },
        {
          "output_type": "display_data",
          "data": {
            "image/png": "[encoded data removed]",
            "text/plain": [
              "<Figure size 432x288 with 1 Axes>"
            ]
          },
          "metadata": {
            "needs_background": "light"
          }
        }
      ]
    },
    {
      "cell_type": "code",
      "source": [
        "len(df['on_views'][(df['diff_data'] == 1) | (df['diff_data'] == 2)])"
      ],
      "metadata": {
        "id": "c4R2chHAPo6B",
        "colab": {
          "base_uri": "https://localhost:8080/"
        },
        "outputId": "3920df1c-da13-4ef3-9565-25c74528c0ce"
      },
      "execution_count": null,
      "outputs": [
        {
          "output_type": "execute_result",
          "data": {
            "text/plain": [
              "2390"
            ]
          },
          "metadata": {},
          "execution_count": 228
        }
      ]
    },
    {
      "cell_type": "code",
      "source": [
        "df_view = pd.DataFrame(df[(df['diff_data'] == 1) | (df['diff_data'] == 2)])"
      ],
      "metadata": {
        "id": "96C_-tu9SuhO"
      },
      "execution_count": null,
      "outputs": []
    },
    {
      "cell_type": "code",
      "source": [
        "df_view.plot.scatter(y='diff_data', x='on_views')"
      ],
      "metadata": {
        "colab": {
          "base_uri": "https://localhost:8080/",
          "height": 298
        },
        "id": "V9j4EP_wbGLS",
        "outputId": "a54add59-b475-4bfe-9bd5-d68369e80e7f"
      },
      "execution_count": null,
      "outputs": [
        {
          "output_type": "execute_result",
          "data": {
            "text/plain": [
              "<matplotlib.axes._subplots.AxesSubplot at 0x7f61f7e6be10>"
            ]
          },
          "metadata": {},
          "execution_count": 240
        },
        {
          "output_type": "display_data",
          "data": {
            "image/png": "[encoded data removed]",
            "text/plain": [
              "<Figure size 432x288 with 1 Axes>"
            ]
          },
          "metadata": {
            "needs_background": "light"
          }
        }
      ]
    },
    {
      "cell_type": "code",
      "source": [
        "#이상치를 제거 후 데이터를 분포를 보기 위한 코드"
      ],
      "metadata": {
        "id": "dldtWoC4VwW9"
      },
      "execution_count": null,
      "outputs": []
    },
    {
      "cell_type": "code",
      "source": [
        "import warnings\n",
        "warnings.filterwarnings('ignore')\n",
        "plt.figure(figsize=(16,5))\n",
        "plt.subplot(1,2,1)\n",
        "sns.distplot(df['on_views'])\n",
        "plt.subplot(1,2,2)\n",
        "sns.distplot(df['diff_data'])\n",
        "plt.show()"
      ],
      "metadata": {
        "colab": {
          "base_uri": "https://localhost:8080/",
          "height": 346
        },
        "id": "GyP8VKhLj1eN",
        "outputId": "392fbcd8-86a9-4608-ef09-ec4475287339"
      },
      "execution_count": null,
      "outputs": [
        {
          "output_type": "display_data",
          "data": {
            "image/png": "[encoded data removed]",
            "text/plain": [
              "<Figure size 1152x360 with 2 Axes>"
            ]
          },
          "metadata": {
            "needs_background": "light"
          }
        }
      ]
    },
    {
      "cell_type": "code",
      "source": [
        "print(\"Highest allowed\",df['on_views'].mean() + 0.2*df['on_views'].std())\n",
        "print(\"Lowest allowed\",df['on_views'].mean() - 0.2*df['on_views'].std())"
      ],
      "metadata": {
        "colab": {
          "base_uri": "https://localhost:8080/"
        },
        "id": "zjbUpEimkIrL",
        "outputId": "ae13114d-5d9a-4b8b-bf88-ff517c3939a8"
      },
      "execution_count": null,
      "outputs": [
        {
          "output_type": "stream",
          "name": "stdout",
          "text": [
            "Highest allowed 1593556.8279468175\n",
            "Lowest allowed 313406.99580507353\n"
          ]
        }
      ]
    },
    {
      "cell_type": "code",
      "source": [
        "df[(df['on_views'] > 10554605) | (df['on_views'] < -8647641)]"
      ],
      "metadata": {
        "id": "hp5xDPlZkSOm"
      },
      "execution_count": null,
      "outputs": []
    },
    {
      "cell_type": "code",
      "source": [
        "upper_limit = df['on_views'].mean() + 0.2*df['on_views'].std()\n",
        "lower_limit = df['on_views'].mean() - 0.2*df['on_views'].std()"
      ],
      "metadata": {
        "id": "zqnJ5ROtkl1z"
      },
      "execution_count": null,
      "outputs": []
    },
    {
      "cell_type": "code",
      "source": [
        "df['on_views'] = np.where(\n",
        "    df['on_views']>upper_limit,\n",
        "    upper_limit,\n",
        "    np.where(\n",
        "        df['on_views']<lower_limit,\n",
        "        lower_limit,\n",
        "        df['on_views']\n",
        "    )\n",
        ")"
      ],
      "metadata": {
        "id": "8OA5_sDWkvnq"
      },
      "execution_count": null,
      "outputs": []
    },
    {
      "cell_type": "code",
      "source": [
        "df['on_views'].describe()"
      ],
      "metadata": {
        "colab": {
          "base_uri": "https://localhost:8080/"
        },
        "id": "2tGQ4Hwhk4_S",
        "outputId": "035273ee-cb25-4ce4-97f6-d7fbccf93415"
      },
      "execution_count": null,
      "outputs": [
        {
          "output_type": "execute_result",
          "data": {
            "text/plain": [
              "count    2.644000e+03\n",
              "mean     6.408534e+05\n",
              "std      4.314914e+05\n",
              "min      3.134070e+05\n",
              "25%      3.134070e+05\n",
              "50%      4.279245e+05\n",
              "75%      8.268800e+05\n",
              "max      1.593557e+06\n",
              "Name: on_views, dtype: float64"
            ]
          },
          "metadata": {},
          "execution_count": 46
        }
      ]
    },
    {
      "cell_type": "code",
      "source": [
        "plt.figure(figsize=(16,5))\n",
        "plt.subplot(1,2,1)\n",
        "sns.distplot(df['on_views'])\n",
        "plt.subplot(1,2,2)\n",
        "sns.distplot(df['diff_data'])\n",
        "plt.show()"
      ],
      "metadata": {
        "colab": {
          "base_uri": "https://localhost:8080/",
          "height": 346
        },
        "id": "JGtvjNNCmPl_",
        "outputId": "3da417a0-d182-44ab-a99f-daff631dd9ab"
      },
      "execution_count": null,
      "outputs": [
        {
          "output_type": "display_data",
          "data": {
            "image/png": "[encoded data removed]",
            "text/plain": [
              "<Figure size 1152x360 with 2 Axes>"
            ]
          },
          "metadata": {
            "needs_background": "light"
          }
        }
      ]
    },
    {
      "cell_type": "code",
      "source": [
        "sns.boxplot(df['on_views'])"
      ],
      "metadata": {
        "colab": {
          "base_uri": "https://localhost:8080/",
          "height": 298
        },
        "id": "8lDPC5XAmhBu",
        "outputId": "0c1eb3a1-717f-418b-8e20-1cabe417f55a"
      },
      "execution_count": null,
      "outputs": [
        {
          "output_type": "execute_result",
          "data": {
            "text/plain": [
              "<matplotlib.axes._subplots.AxesSubplot at 0x7f61f7c10ad0>"
            ]
          },
          "metadata": {},
          "execution_count": 241
        },
        {
          "output_type": "display_data",
          "data": {
            "image/png": "[encoded data removed]",
            "text/plain": [
              "<Figure size 432x288 with 1 Axes>"
            ]
          },
          "metadata": {
            "needs_background": "light"
          }
        }
      ]
    },
    {
      "cell_type": "code",
      "source": [
        "sns.distplot(df['on_views'])"
      ],
      "metadata": {
        "colab": {
          "base_uri": "https://localhost:8080/",
          "height": 309
        },
        "id": "0fwATvJAn2pU",
        "outputId": "be6d2a6b-40c7-4dbf-c8ae-a458dfc34e3c"
      },
      "execution_count": null,
      "outputs": [
        {
          "output_type": "execute_result",
          "data": {
            "text/plain": [
              "<matplotlib.axes._subplots.AxesSubplot at 0x7f61f7bf5ed0>"
            ]
          },
          "metadata": {},
          "execution_count": 242
        },
        {
          "output_type": "display_data",
          "data": {
            "image/png": "[encoded data removed]",
            "text/plain": [
              "<Figure size 432x288 with 1 Axes>"
            ]
          },
          "metadata": {
            "needs_background": "light"
          }
        }
      ]
    },
    {
      "cell_type": "code",
      "source": [
        "#편향된 데이터의 이상치를 제거하기 위하여\n",
        "#IQR을 사용하여 데이터 시각화"
      ],
      "metadata": {
        "id": "xtJCCkBtWb25"
      },
      "execution_count": null,
      "outputs": []
    },
    {
      "cell_type": "code",
      "source": [
        "percentile25 = df['on_views'].quantile(0)\n",
        "percentile75 = df['on_views'].quantile(0.75)"
      ],
      "metadata": {
        "id": "GG0IltUJnSOQ"
      },
      "execution_count": null,
      "outputs": []
    },
    {
      "cell_type": "code",
      "source": [
        "iqr = percentile75 - percentile25\n",
        "iqr"
      ],
      "metadata": {
        "colab": {
          "base_uri": "https://localhost:8080/"
        },
        "id": "8SShDMEYoj9F",
        "outputId": "9f13c724-79d0-4401-cca4-a9fa9421c6f8"
      },
      "execution_count": null,
      "outputs": [
        {
          "output_type": "execute_result",
          "data": {
            "text/plain": [
              "826880.0"
            ]
          },
          "metadata": {},
          "execution_count": 244
        }
      ]
    },
    {
      "cell_type": "code",
      "source": [
        "upper_limit = percentile75 + 1.5 * iqr\n",
        "lower_limit = percentile25 - 1.5 * iqr"
      ],
      "metadata": {
        "id": "ZgZI_GdWnnFL"
      },
      "execution_count": null,
      "outputs": []
    },
    {
      "cell_type": "code",
      "source": [
        "upper_limit"
      ],
      "metadata": {
        "colab": {
          "base_uri": "https://localhost:8080/"
        },
        "id": "JGOPGp9UpCrF",
        "outputId": "754661ad-4d90-4eca-e82a-75c1914958cf"
      },
      "execution_count": null,
      "outputs": [
        {
          "output_type": "execute_result",
          "data": {
            "text/plain": [
              "2067200.0"
            ]
          },
          "metadata": {},
          "execution_count": 246
        }
      ]
    },
    {
      "cell_type": "code",
      "source": [
        "lower_limit"
      ],
      "metadata": {
        "colab": {
          "base_uri": "https://localhost:8080/"
        },
        "id": "JeFpZgMXpEeE",
        "outputId": "daa0981d-53b8-435b-c2cc-5ab2d3c502b1"
      },
      "execution_count": null,
      "outputs": [
        {
          "output_type": "execute_result",
          "data": {
            "text/plain": [
              "-1240320.0"
            ]
          },
          "metadata": {},
          "execution_count": 247
        }
      ]
    },
    {
      "cell_type": "code",
      "source": [
        "df['on_views'][df['on_views'] > upper_limit]\n",
        "df['on_views'][df['on_views'] < lower_limit]"
      ],
      "metadata": {
        "colab": {
          "base_uri": "https://localhost:8080/"
        },
        "id": "gVnoqaqKo2ge",
        "outputId": "f9c490ad-a92c-4416-b41c-21e67930e0ba"
      },
      "execution_count": null,
      "outputs": [
        {
          "output_type": "execute_result",
          "data": {
            "text/plain": [
              "Series([], Name: on_views, dtype: int64)"
            ]
          },
          "metadata": {},
          "execution_count": 248
        }
      ]
    },
    {
      "cell_type": "code",
      "source": [
        "new_df = df[df['on_views'] < upper_limit]\n",
        "new_df.shape"
      ],
      "metadata": {
        "colab": {
          "base_uri": "https://localhost:8080/"
        },
        "id": "PqPeNmafpr1B",
        "outputId": "9781df7f-9850-476b-b7a6-b604e5cb6939"
      },
      "execution_count": null,
      "outputs": [
        {
          "output_type": "execute_result",
          "data": {
            "text/plain": [
              "(2467, 28)"
            ]
          },
          "metadata": {},
          "execution_count": 249
        }
      ]
    },
    {
      "cell_type": "code",
      "source": [
        "#편차를 줄이기 위하여 다수의 이상치를 제거하여도 \n",
        "#여전히 동영상이 편향되어 분포된 것을 알 수 있음"
      ],
      "metadata": {
        "id": "pspVi2VoWE7E"
      },
      "execution_count": null,
      "outputs": []
    },
    {
      "cell_type": "code",
      "source": [
        "plt.figure(figsize=(16,8))\n",
        "plt.subplot(2,2,1)\n",
        "sns.distplot(df['on_views'])\n",
        "plt.subplot(2,2,2)\n",
        "sns.boxplot(df['on_views'])\n",
        "plt.subplot(2,2,3)\n",
        "sns.distplot(new_df['on_views'])\n",
        "plt.subplot(2,2,4)\n",
        "sns.boxplot(new_df['on_views'])\n",
        "plt.show()"
      ],
      "metadata": {
        "colab": {
          "base_uri": "https://localhost:8080/",
          "height": 509
        },
        "id": "CTYP1Su5p2T4",
        "outputId": "ac8850e8-fe8a-40e9-bbcb-71a4022b3aa0"
      },
      "execution_count": null,
      "outputs": [
        {
          "output_type": "display_data",
          "data": {
            "image/png": "[encoded data removed]",
            "text/plain": [
              "<Figure size 1152x576 with 4 Axes>"
            ]
          },
          "metadata": {
            "needs_background": "light"
          }
        }
      ]
    },
    {
      "cell_type": "code",
      "source": [
        "df_view = df[(df['diff_data'] == 1) | (df['diff_data'] == 2)]"
      ],
      "metadata": {
        "id": "J3zgNpLHxMF6"
      },
      "execution_count": null,
      "outputs": []
    },
    {
      "cell_type": "code",
      "source": [
        "sns.boxplot(df_view['on_views'])"
      ],
      "metadata": {
        "colab": {
          "base_uri": "https://localhost:8080/",
          "height": 298
        },
        "id": "tGyUNWyFxR6P",
        "outputId": "bd03f0d9-b56e-4820-ae10-fc9449c09b55"
      },
      "execution_count": null,
      "outputs": [
        {
          "output_type": "execute_result",
          "data": {
            "text/plain": [
              "<matplotlib.axes._subplots.AxesSubplot at 0x7f9a0113ba10>"
            ]
          },
          "metadata": {},
          "execution_count": 142
        },
        {
          "output_type": "display_data",
          "data": {
            "image/png": "[encoded data removed]",
            "text/plain": [
              "<Figure size 432x288 with 1 Axes>"
            ]
          },
          "metadata": {
            "needs_background": "light"
          }
        }
      ]
    },
    {
      "cell_type": "code",
      "source": [
        "percentile25 = df_view['on_views'].quantile(0)\n",
        "percentile75 = df_view['on_views'].quantile(0.5)"
      ],
      "metadata": {
        "id": "pR50KH1yxn27"
      },
      "execution_count": null,
      "outputs": []
    },
    {
      "cell_type": "code",
      "source": [
        "iqr = percentile75 - percentile25\n",
        "iqr"
      ],
      "metadata": {
        "colab": {
          "base_uri": "https://localhost:8080/"
        },
        "id": "PrhyeTtwxw9b",
        "outputId": "c6a613da-7e8a-4550-ea12-edaa639f44cc"
      },
      "execution_count": null,
      "outputs": [
        {
          "output_type": "execute_result",
          "data": {
            "text/plain": [
              "430413.0"
            ]
          },
          "metadata": {},
          "execution_count": 149
        }
      ]
    },
    {
      "cell_type": "code",
      "source": [
        "upper_limit = percentile75 + 1.5 * iqr\n",
        "lower_limit = percentile25 - 1.5 * iqr"
      ],
      "metadata": {
        "id": "Sh_kzyYExzRx"
      },
      "execution_count": null,
      "outputs": []
    },
    {
      "cell_type": "code",
      "source": [
        "df_view['on_views'][df_view['on_views'] > upper_limit]\n",
        "df_view['on_views'][df_view['on_views'] < lower_limit]"
      ],
      "metadata": {
        "colab": {
          "base_uri": "https://localhost:8080/"
        },
        "id": "Oa6hgvVjx1dk",
        "outputId": "36f74c54-7cce-4fe1-f7ad-c1442b1c19f9"
      },
      "execution_count": null,
      "outputs": [
        {
          "output_type": "execute_result",
          "data": {
            "text/plain": [
              "Series([], Name: on_views, dtype: int64)"
            ]
          },
          "metadata": {},
          "execution_count": 151
        }
      ]
    },
    {
      "cell_type": "code",
      "source": [
        "new_df = df_view[df_view['on_views'] < upper_limit]\n",
        "new_df.shape"
      ],
      "metadata": {
        "colab": {
          "base_uri": "https://localhost:8080/"
        },
        "id": "iBGV_OBLx2x0",
        "outputId": "4954054c-771a-4cc6-80c4-20bf7fe2d660"
      },
      "execution_count": null,
      "outputs": [
        {
          "output_type": "execute_result",
          "data": {
            "text/plain": [
              "(1960, 26)"
            ]
          },
          "metadata": {},
          "execution_count": 152
        }
      ]
    },
    {
      "cell_type": "code",
      "source": [
        "plt.figure(figsize=(16,8))\n",
        "plt.subplot(2,2,1)\n",
        "sns.distplot(df_view['on_views'])\n",
        "plt.subplot(2,2,2)\n",
        "sns.boxplot(df_view['on_views'])\n",
        "plt.subplot(2,2,3)\n",
        "sns.distplot(new_df['on_views'])\n",
        "plt.subplot(2,2,4)\n",
        "sns.boxplot(new_df['on_views'])\n",
        "plt.show()"
      ],
      "metadata": {
        "colab": {
          "base_uri": "https://localhost:8080/",
          "height": 509
        },
        "id": "vPr3Al31x3Nh",
        "outputId": "b5e2c4b3-a353-446e-e9f5-12014fbdbf5b"
      },
      "execution_count": null,
      "outputs": [
        {
          "output_type": "display_data",
          "data": {
            "image/png": "[encoded data removed]",
            "text/plain": [
              "<Figure size 1152x576 with 4 Axes>"
            ]
          },
          "metadata": {
            "needs_background": "light"
          }
        }
      ]
    }
  ]
}