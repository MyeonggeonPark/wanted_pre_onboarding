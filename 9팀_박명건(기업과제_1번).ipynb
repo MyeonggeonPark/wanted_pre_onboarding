{
  "nbformat": 4,
  "nbformat_minor": 0,
  "metadata": {
    "colab": {
      "name": "\b9팀_박명건(기업과제_1번).ipynb",
      "provenance": [],
      "collapsed_sections": []
    },
    "kernelspec": {
      "name": "python3",
      "display_name": "Python 3"
    },
    "language_info": {
      "name": "python"
    }
  },
  "cells": [
    {
      "cell_type": "code",
      "source": [
        "\"\"\"\n",
        "9\n",
        "\"aaa\", \"aaaabb\", \"aabbcc\", \"abb\", \"bcc\", \"bbcc\", \"aabbccdd\", \"aaabb\", \"cccd\"\n",
        "1\n",
        "\"aaaabbaabbccdd\"\n",
        "\"\"\""
      ],
      "metadata": {
        "id": "Hf08k-B8yV17"
      },
      "execution_count": null,
      "outputs": []
    },
    {
      "cell_type": "code",
      "source": [
        "#문제 입력\n",
        "s_elements = int(input(\"문자열 집합S의 원소 개수: \"))\n",
        "s_zip = []\n",
        "for num in range(s_elements):\n",
        "  s_zip.append(input(str(num+1)+\"번 문자열: \"))\n",
        "m_elements = int(input(\"매칭 대상 문자열 원소 개수: \"))\n",
        "m_zip = []\n",
        "for num in range(m_elements):\n",
        "  m_zip.append(input(str(num+1)+\"번 문자열: \"))"
      ],
      "metadata": {
        "colab": {
          "base_uri": "https://localhost:8080/"
        },
        "id": "tZYonXqWsWGf",
        "outputId": "f30959e8-fce3-4cc5-8668-7b40b48397ce"
      },
      "execution_count": null,
      "outputs": [
        {
          "name": "stdout",
          "output_type": "stream",
          "text": [
            "문자열 집합S의 원소 개수: 9\n",
            "1번 문자열: aaa\n",
            "2번 문자열: aaaabb\n",
            "3번 문자열: aabbcc\n",
            "4번 문자열: abb\n",
            "5번 문자열: bcc\n",
            "6번 문자열: bbcc\n",
            "7번 문자열: aabbccdd\n",
            "8번 문자열: aaabb\n",
            "9번 문자열: cccd\n",
            "매칭 대상 문자열 원소 개수: 1\n",
            "1번 문자열: aaaabbaabbccdd\n"
          ]
        }
      ]
    },
    {
      "cell_type": "code",
      "source": [
        "def findYN(s_zip, m_zip):\n",
        "  for s_sequence in s_zip:\n",
        "    for m_sequence in m_zip:\n",
        "      if m_sequence.find(s_sequence) == -1:\n",
        "        print(\"NO\")\n",
        "      else:\n",
        "        print(\"YES\")"
      ],
      "metadata": {
        "id": "XwcvxFLrtDnA"
      },
      "execution_count": null,
      "outputs": []
    },
    {
      "cell_type": "code",
      "source": [
        "findYN(s_zip, m_zip)"
      ],
      "metadata": {
        "colab": {
          "base_uri": "https://localhost:8080/"
        },
        "id": "tuplufhsvBAu",
        "outputId": "b9a4f672-947f-4828-9d09-21f2278070ea"
      },
      "execution_count": null,
      "outputs": [
        {
          "output_type": "stream",
          "name": "stdout",
          "text": [
            "YES\n",
            "YES\n",
            "YES\n",
            "YES\n",
            "YES\n",
            "YES\n",
            "YES\n",
            "YES\n",
            "NO\n"
          ]
        }
      ]
    },
    {
      "cell_type": "code",
      "source": [
        "def find_pattern(s_zip, m_zip):\n",
        "  for s_sequence in s_zip:\n",
        "    for m_sequence in m_zip:\n",
        "      if m_sequence.find(s_sequence) != -1:\n",
        "        print(\"#pos = \"+str(m_sequence.find(s_sequence))+\", pattern = \"+s_sequence)"
      ],
      "metadata": {
        "id": "wdkq8vHcvKBw"
      },
      "execution_count": null,
      "outputs": []
    },
    {
      "cell_type": "code",
      "source": [
        "find_pattern(s_zip, m_zip)"
      ],
      "metadata": {
        "colab": {
          "base_uri": "https://localhost:8080/"
        },
        "id": "mrO8oHtLv_VI",
        "outputId": "8dee5688-9b2b-4573-8209-3860a4c5a9bd"
      },
      "execution_count": null,
      "outputs": [
        {
          "output_type": "stream",
          "name": "stdout",
          "text": [
            "#pos = 0, pattern = aaa\n",
            "#pos = 0, pattern = aaaabb\n",
            "#pos = 6, pattern = aabbcc\n",
            "#pos = 3, pattern = abb\n",
            "#pos = 9, pattern = bcc\n",
            "#pos = 8, pattern = bbcc\n",
            "#pos = 6, pattern = aabbccdd\n",
            "#pos = 1, pattern = aaabb\n"
          ]
        }
      ]
    },
    {
      "cell_type": "code",
      "source": [
        "def find_all_pattern(s_zip, m_zip):\n",
        "  for s_sequence in s_zip:\n",
        "    for m_sequence in m_zip:\n",
        "      index_num=0\n",
        "      while m_sequence.find(s_sequence,index_num) != -1:\n",
        "        print(\"#pos = \"+str(m_sequence.find(s_sequence, index_num))+\", pattern = \"+s_sequence)\n",
        "        index_num = m_sequence.find(s_sequence,index_num)+1"
      ],
      "metadata": {
        "id": "ADgCjw5XwcJ3"
      },
      "execution_count": null,
      "outputs": []
    },
    {
      "cell_type": "code",
      "source": [
        "find_all_pattern(s_zip, m_zip)"
      ],
      "metadata": {
        "colab": {
          "base_uri": "https://localhost:8080/"
        },
        "id": "7r8rFOtXxD-w",
        "outputId": "9c8f4ded-011c-4ce1-ea65-efb3f1bc5bb2"
      },
      "execution_count": null,
      "outputs": [
        {
          "output_type": "stream",
          "name": "stdout",
          "text": [
            "#pos = 0, pattern = aaa\n",
            "#pos = 1, pattern = aaa\n",
            "#pos = 0, pattern = aaaabb\n",
            "#pos = 6, pattern = aabbcc\n",
            "#pos = 3, pattern = abb\n",
            "#pos = 7, pattern = abb\n",
            "#pos = 9, pattern = bcc\n",
            "#pos = 8, pattern = bbcc\n",
            "#pos = 6, pattern = aabbccdd\n",
            "#pos = 1, pattern = aaabb\n"
          ]
        }
      ]
    }
  ]
}